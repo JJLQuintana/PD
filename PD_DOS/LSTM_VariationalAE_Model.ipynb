{
  "cells": [
    {
      "cell_type": "markdown",
      "id": "01a61da0",
      "metadata": {
        "id": "01a61da0"
      },
      "source": [
        "### Imports"
      ]
    },
    {
      "cell_type": "code",
      "execution_count": null,
      "id": "660e9bf3",
      "metadata": {
        "id": "660e9bf3"
      },
      "outputs": [],
      "source": [
        "import os\n",
        "import numpy as np\n",
        "import pandas as pd\n",
        "from sklearn.preprocessing import LabelEncoder, StandardScaler\n",
        "from sklearn.model_selection import train_test_split\n",
        "from sklearn.metrics import f1_score, confusion_matrix, roc_curve, auc, classification_report\n",
        "import seaborn as sns\n",
        "import matplotlib.pyplot as plt\n",
        "import torch\n",
        "from torch.utils.data import DataLoader, TensorDataset\n",
        "import torch.nn as nn\n",
        "import torch.nn.functional as F\n",
        "\n",
        "import time     \n",
        "import os\n",
        "from radon.metrics import mi_visit\n",
        "from radon.complexity import cc_visit"
      ]
    },
    {
      "cell_type": "code",
      "execution_count": 9,
      "id": "2610139a",
      "metadata": {
        "colab": {
          "base_uri": "https://localhost:8080/"
        },
        "id": "2610139a",
        "outputId": "79a5053a-414e-4c87-c37b-9621741ce94c"
      },
      "outputs": [
        {
          "name": "stdout",
          "output_type": "stream",
          "text": [
            "Using device: cuda\n"
          ]
        }
      ],
      "source": [
        "# for checking if cuda is working c:\n",
        "device = torch.device(\"cuda\" if torch.cuda.is_available() else \"cpu\")\n",
        "print(\"Using device:\", device)"
      ]
    },
    {
      "cell_type": "markdown",
      "id": "f2bfc903",
      "metadata": {
        "id": "f2bfc903"
      },
      "source": [
        "### Dataset (preprocessing)"
      ]
    },
    {
      "cell_type": "code",
      "execution_count": 10,
      "id": "adeeaaec",
      "metadata": {
        "id": "adeeaaec"
      },
      "outputs": [],
      "source": [
        "df = pd.read_csv('Dataset\\Friday-WorkingHours-Afternoon-DDos.pcap_ISCX.csv')"
      ]
    },
    {
      "cell_type": "code",
      "execution_count": 11,
      "id": "a3bfbde3",
      "metadata": {
        "colab": {
          "base_uri": "https://localhost:8080/",
          "height": 288
        },
        "id": "a3bfbde3",
        "outputId": "54283b7a-1368-4157-9ed9-46e488c75291"
      },
      "outputs": [
        {
          "data": {
            "text/html": [
              "<div>\n",
              "<style scoped>\n",
              "    .dataframe tbody tr th:only-of-type {\n",
              "        vertical-align: middle;\n",
              "    }\n",
              "\n",
              "    .dataframe tbody tr th {\n",
              "        vertical-align: top;\n",
              "    }\n",
              "\n",
              "    .dataframe thead th {\n",
              "        text-align: right;\n",
              "    }\n",
              "</style>\n",
              "<table border=\"1\" class=\"dataframe\">\n",
              "  <thead>\n",
              "    <tr style=\"text-align: right;\">\n",
              "      <th></th>\n",
              "      <th>Destination Port</th>\n",
              "      <th>Flow Duration</th>\n",
              "      <th>Total Fwd Packets</th>\n",
              "      <th>Total Backward Packets</th>\n",
              "      <th>Total Length of Fwd Packets</th>\n",
              "      <th>Total Length of Bwd Packets</th>\n",
              "      <th>Fwd Packet Length Max</th>\n",
              "      <th>Fwd Packet Length Min</th>\n",
              "      <th>Fwd Packet Length Mean</th>\n",
              "      <th>Fwd Packet Length Std</th>\n",
              "      <th>...</th>\n",
              "      <th>min_seg_size_forward</th>\n",
              "      <th>Active Mean</th>\n",
              "      <th>Active Std</th>\n",
              "      <th>Active Max</th>\n",
              "      <th>Active Min</th>\n",
              "      <th>Idle Mean</th>\n",
              "      <th>Idle Std</th>\n",
              "      <th>Idle Max</th>\n",
              "      <th>Idle Min</th>\n",
              "      <th>Label</th>\n",
              "    </tr>\n",
              "  </thead>\n",
              "  <tbody>\n",
              "    <tr>\n",
              "      <th>0</th>\n",
              "      <td>54865</td>\n",
              "      <td>3</td>\n",
              "      <td>2</td>\n",
              "      <td>0</td>\n",
              "      <td>12</td>\n",
              "      <td>0</td>\n",
              "      <td>6</td>\n",
              "      <td>6</td>\n",
              "      <td>6.0</td>\n",
              "      <td>0.0</td>\n",
              "      <td>...</td>\n",
              "      <td>20</td>\n",
              "      <td>0.0</td>\n",
              "      <td>0.0</td>\n",
              "      <td>0</td>\n",
              "      <td>0</td>\n",
              "      <td>0.0</td>\n",
              "      <td>0.0</td>\n",
              "      <td>0</td>\n",
              "      <td>0</td>\n",
              "      <td>BENIGN</td>\n",
              "    </tr>\n",
              "    <tr>\n",
              "      <th>1</th>\n",
              "      <td>55054</td>\n",
              "      <td>109</td>\n",
              "      <td>1</td>\n",
              "      <td>1</td>\n",
              "      <td>6</td>\n",
              "      <td>6</td>\n",
              "      <td>6</td>\n",
              "      <td>6</td>\n",
              "      <td>6.0</td>\n",
              "      <td>0.0</td>\n",
              "      <td>...</td>\n",
              "      <td>20</td>\n",
              "      <td>0.0</td>\n",
              "      <td>0.0</td>\n",
              "      <td>0</td>\n",
              "      <td>0</td>\n",
              "      <td>0.0</td>\n",
              "      <td>0.0</td>\n",
              "      <td>0</td>\n",
              "      <td>0</td>\n",
              "      <td>BENIGN</td>\n",
              "    </tr>\n",
              "    <tr>\n",
              "      <th>2</th>\n",
              "      <td>55055</td>\n",
              "      <td>52</td>\n",
              "      <td>1</td>\n",
              "      <td>1</td>\n",
              "      <td>6</td>\n",
              "      <td>6</td>\n",
              "      <td>6</td>\n",
              "      <td>6</td>\n",
              "      <td>6.0</td>\n",
              "      <td>0.0</td>\n",
              "      <td>...</td>\n",
              "      <td>20</td>\n",
              "      <td>0.0</td>\n",
              "      <td>0.0</td>\n",
              "      <td>0</td>\n",
              "      <td>0</td>\n",
              "      <td>0.0</td>\n",
              "      <td>0.0</td>\n",
              "      <td>0</td>\n",
              "      <td>0</td>\n",
              "      <td>BENIGN</td>\n",
              "    </tr>\n",
              "    <tr>\n",
              "      <th>3</th>\n",
              "      <td>46236</td>\n",
              "      <td>34</td>\n",
              "      <td>1</td>\n",
              "      <td>1</td>\n",
              "      <td>6</td>\n",
              "      <td>6</td>\n",
              "      <td>6</td>\n",
              "      <td>6</td>\n",
              "      <td>6.0</td>\n",
              "      <td>0.0</td>\n",
              "      <td>...</td>\n",
              "      <td>20</td>\n",
              "      <td>0.0</td>\n",
              "      <td>0.0</td>\n",
              "      <td>0</td>\n",
              "      <td>0</td>\n",
              "      <td>0.0</td>\n",
              "      <td>0.0</td>\n",
              "      <td>0</td>\n",
              "      <td>0</td>\n",
              "      <td>BENIGN</td>\n",
              "    </tr>\n",
              "    <tr>\n",
              "      <th>4</th>\n",
              "      <td>54863</td>\n",
              "      <td>3</td>\n",
              "      <td>2</td>\n",
              "      <td>0</td>\n",
              "      <td>12</td>\n",
              "      <td>0</td>\n",
              "      <td>6</td>\n",
              "      <td>6</td>\n",
              "      <td>6.0</td>\n",
              "      <td>0.0</td>\n",
              "      <td>...</td>\n",
              "      <td>20</td>\n",
              "      <td>0.0</td>\n",
              "      <td>0.0</td>\n",
              "      <td>0</td>\n",
              "      <td>0</td>\n",
              "      <td>0.0</td>\n",
              "      <td>0.0</td>\n",
              "      <td>0</td>\n",
              "      <td>0</td>\n",
              "      <td>BENIGN</td>\n",
              "    </tr>\n",
              "  </tbody>\n",
              "</table>\n",
              "<p>5 rows × 79 columns</p>\n",
              "</div>"
            ],
            "text/plain": [
              "    Destination Port   Flow Duration   Total Fwd Packets  \\\n",
              "0              54865               3                   2   \n",
              "1              55054             109                   1   \n",
              "2              55055              52                   1   \n",
              "3              46236              34                   1   \n",
              "4              54863               3                   2   \n",
              "\n",
              "    Total Backward Packets  Total Length of Fwd Packets  \\\n",
              "0                        0                           12   \n",
              "1                        1                            6   \n",
              "2                        1                            6   \n",
              "3                        1                            6   \n",
              "4                        0                           12   \n",
              "\n",
              "    Total Length of Bwd Packets   Fwd Packet Length Max  \\\n",
              "0                             0                       6   \n",
              "1                             6                       6   \n",
              "2                             6                       6   \n",
              "3                             6                       6   \n",
              "4                             0                       6   \n",
              "\n",
              "    Fwd Packet Length Min   Fwd Packet Length Mean   Fwd Packet Length Std  \\\n",
              "0                       6                      6.0                     0.0   \n",
              "1                       6                      6.0                     0.0   \n",
              "2                       6                      6.0                     0.0   \n",
              "3                       6                      6.0                     0.0   \n",
              "4                       6                      6.0                     0.0   \n",
              "\n",
              "   ...   min_seg_size_forward  Active Mean   Active Std   Active Max  \\\n",
              "0  ...                     20          0.0          0.0            0   \n",
              "1  ...                     20          0.0          0.0            0   \n",
              "2  ...                     20          0.0          0.0            0   \n",
              "3  ...                     20          0.0          0.0            0   \n",
              "4  ...                     20          0.0          0.0            0   \n",
              "\n",
              "    Active Min  Idle Mean   Idle Std   Idle Max   Idle Min   Label  \n",
              "0            0        0.0        0.0          0          0  BENIGN  \n",
              "1            0        0.0        0.0          0          0  BENIGN  \n",
              "2            0        0.0        0.0          0          0  BENIGN  \n",
              "3            0        0.0        0.0          0          0  BENIGN  \n",
              "4            0        0.0        0.0          0          0  BENIGN  \n",
              "\n",
              "[5 rows x 79 columns]"
            ]
          },
          "execution_count": 11,
          "metadata": {},
          "output_type": "execute_result"
        }
      ],
      "source": [
        "df.head()"
      ]
    },
    {
      "cell_type": "code",
      "execution_count": 12,
      "id": "657edca9",
      "metadata": {
        "colab": {
          "base_uri": "https://localhost:8080/"
        },
        "id": "657edca9",
        "outputId": "8e3b22be-ddf3-4a9c-ecf7-2b25d687e498"
      },
      "outputs": [
        {
          "data": {
            "text/plain": [
              "Index([' Destination Port', ' Flow Duration', ' Total Fwd Packets',\n",
              "       ' Total Backward Packets', 'Total Length of Fwd Packets',\n",
              "       ' Total Length of Bwd Packets', ' Fwd Packet Length Max',\n",
              "       ' Fwd Packet Length Min', ' Fwd Packet Length Mean',\n",
              "       ' Fwd Packet Length Std', 'Bwd Packet Length Max',\n",
              "       ' Bwd Packet Length Min', ' Bwd Packet Length Mean',\n",
              "       ' Bwd Packet Length Std', 'Flow Bytes/s', ' Flow Packets/s',\n",
              "       ' Flow IAT Mean', ' Flow IAT Std', ' Flow IAT Max', ' Flow IAT Min',\n",
              "       'Fwd IAT Total', ' Fwd IAT Mean', ' Fwd IAT Std', ' Fwd IAT Max',\n",
              "       ' Fwd IAT Min', 'Bwd IAT Total', ' Bwd IAT Mean', ' Bwd IAT Std',\n",
              "       ' Bwd IAT Max', ' Bwd IAT Min', 'Fwd PSH Flags', ' Bwd PSH Flags',\n",
              "       ' Fwd URG Flags', ' Bwd URG Flags', ' Fwd Header Length',\n",
              "       ' Bwd Header Length', 'Fwd Packets/s', ' Bwd Packets/s',\n",
              "       ' Min Packet Length', ' Max Packet Length', ' Packet Length Mean',\n",
              "       ' Packet Length Std', ' Packet Length Variance', 'FIN Flag Count',\n",
              "       ' SYN Flag Count', ' RST Flag Count', ' PSH Flag Count',\n",
              "       ' ACK Flag Count', ' URG Flag Count', ' CWE Flag Count',\n",
              "       ' ECE Flag Count', ' Down/Up Ratio', ' Average Packet Size',\n",
              "       ' Avg Fwd Segment Size', ' Avg Bwd Segment Size',\n",
              "       ' Fwd Header Length.1', 'Fwd Avg Bytes/Bulk', ' Fwd Avg Packets/Bulk',\n",
              "       ' Fwd Avg Bulk Rate', ' Bwd Avg Bytes/Bulk', ' Bwd Avg Packets/Bulk',\n",
              "       'Bwd Avg Bulk Rate', 'Subflow Fwd Packets', ' Subflow Fwd Bytes',\n",
              "       ' Subflow Bwd Packets', ' Subflow Bwd Bytes', 'Init_Win_bytes_forward',\n",
              "       ' Init_Win_bytes_backward', ' act_data_pkt_fwd',\n",
              "       ' min_seg_size_forward', 'Active Mean', ' Active Std', ' Active Max',\n",
              "       ' Active Min', 'Idle Mean', ' Idle Std', ' Idle Max', ' Idle Min',\n",
              "       ' Label'],\n",
              "      dtype='object')"
            ]
          },
          "execution_count": 12,
          "metadata": {},
          "output_type": "execute_result"
        }
      ],
      "source": [
        "df.columns"
      ]
    },
    {
      "cell_type": "code",
      "execution_count": 13,
      "id": "d355db63",
      "metadata": {
        "colab": {
          "base_uri": "https://localhost:8080/"
        },
        "id": "d355db63",
        "outputId": "56a20637-13a2-4de6-cf9c-1c88df4d7e22"
      },
      "outputs": [
        {
          "name": "stdout",
          "output_type": "stream",
          "text": [
            "['BENIGN' 'DDoS']\n"
          ]
        }
      ],
      "source": [
        "unique_values = df[' Label'].unique()\n",
        "print(unique_values)"
      ]
    },
    {
      "cell_type": "code",
      "execution_count": 14,
      "id": "6de46a34",
      "metadata": {
        "id": "6de46a34"
      },
      "outputs": [],
      "source": [
        "df.columns = df.columns.str.strip() # pang tanggal ng space kasi may space sa column names hehe"
      ]
    },
    {
      "cell_type": "code",
      "execution_count": 15,
      "id": "7ae2579f",
      "metadata": {
        "colab": {
          "base_uri": "https://localhost:8080/"
        },
        "id": "7ae2579f",
        "outputId": "6ab0b549-315e-4f37-8947-9c6d7a28298d"
      },
      "outputs": [
        {
          "data": {
            "text/plain": [
              "Index(['Destination Port', 'Flow Duration', 'Total Fwd Packets',\n",
              "       'Total Backward Packets', 'Total Length of Fwd Packets',\n",
              "       'Total Length of Bwd Packets', 'Fwd Packet Length Max',\n",
              "       'Fwd Packet Length Min', 'Fwd Packet Length Mean',\n",
              "       'Fwd Packet Length Std', 'Bwd Packet Length Max',\n",
              "       'Bwd Packet Length Min', 'Bwd Packet Length Mean',\n",
              "       'Bwd Packet Length Std', 'Flow Bytes/s', 'Flow Packets/s',\n",
              "       'Flow IAT Mean', 'Flow IAT Std', 'Flow IAT Max', 'Flow IAT Min',\n",
              "       'Fwd IAT Total', 'Fwd IAT Mean', 'Fwd IAT Std', 'Fwd IAT Max',\n",
              "       'Fwd IAT Min', 'Bwd IAT Total', 'Bwd IAT Mean', 'Bwd IAT Std',\n",
              "       'Bwd IAT Max', 'Bwd IAT Min', 'Fwd PSH Flags', 'Bwd PSH Flags',\n",
              "       'Fwd URG Flags', 'Bwd URG Flags', 'Fwd Header Length',\n",
              "       'Bwd Header Length', 'Fwd Packets/s', 'Bwd Packets/s',\n",
              "       'Min Packet Length', 'Max Packet Length', 'Packet Length Mean',\n",
              "       'Packet Length Std', 'Packet Length Variance', 'FIN Flag Count',\n",
              "       'SYN Flag Count', 'RST Flag Count', 'PSH Flag Count', 'ACK Flag Count',\n",
              "       'URG Flag Count', 'CWE Flag Count', 'ECE Flag Count', 'Down/Up Ratio',\n",
              "       'Average Packet Size', 'Avg Fwd Segment Size', 'Avg Bwd Segment Size',\n",
              "       'Fwd Header Length.1', 'Fwd Avg Bytes/Bulk', 'Fwd Avg Packets/Bulk',\n",
              "       'Fwd Avg Bulk Rate', 'Bwd Avg Bytes/Bulk', 'Bwd Avg Packets/Bulk',\n",
              "       'Bwd Avg Bulk Rate', 'Subflow Fwd Packets', 'Subflow Fwd Bytes',\n",
              "       'Subflow Bwd Packets', 'Subflow Bwd Bytes', 'Init_Win_bytes_forward',\n",
              "       'Init_Win_bytes_backward', 'act_data_pkt_fwd', 'min_seg_size_forward',\n",
              "       'Active Mean', 'Active Std', 'Active Max', 'Active Min', 'Idle Mean',\n",
              "       'Idle Std', 'Idle Max', 'Idle Min', 'Label'],\n",
              "      dtype='object')"
            ]
          },
          "execution_count": 15,
          "metadata": {},
          "output_type": "execute_result"
        }
      ],
      "source": [
        "df.columns # yey wala na space sa harap"
      ]
    },
    {
      "cell_type": "code",
      "execution_count": 16,
      "id": "31b1bd5d",
      "metadata": {
        "id": "31b1bd5d"
      },
      "outputs": [],
      "source": [
        "df['Label'] = df['Label'].apply(lambda x: 1 if 'DDoS' in x else 0)"
      ]
    },
    {
      "cell_type": "code",
      "execution_count": 17,
      "id": "c77e0d95",
      "metadata": {
        "colab": {
          "base_uri": "https://localhost:8080/"
        },
        "id": "c77e0d95",
        "outputId": "5fede1b8-2f27-45d9-dd22-f79644363bc2"
      },
      "outputs": [
        {
          "name": "stdout",
          "output_type": "stream",
          "text": [
            "[0 1]\n"
          ]
        }
      ],
      "source": [
        "check_Label = df['Label'].unique()\n",
        "print(check_Label) # 0 = Benign, 1 = DDoS"
      ]
    },
    {
      "cell_type": "code",
      "execution_count": 18,
      "id": "101a743f",
      "metadata": {
        "id": "101a743f"
      },
      "outputs": [],
      "source": [
        "df = df.replace([float('inf'), float('-inf')], pd.NA).dropna() # dropping rows with nan and inf values"
      ]
    },
    {
      "cell_type": "markdown",
      "id": "67e4d73e",
      "metadata": {
        "id": "67e4d73e"
      },
      "source": [
        "### Standardize and Splitting"
      ]
    },
    {
      "cell_type": "code",
      "execution_count": 19,
      "id": "fa069bbf",
      "metadata": {
        "id": "fa069bbf"
      },
      "outputs": [],
      "source": [
        "X = df.drop(columns=['Label'])\n",
        "y = df['Label']"
      ]
    },
    {
      "cell_type": "code",
      "execution_count": 20,
      "id": "bbcc189d",
      "metadata": {
        "colab": {
          "base_uri": "https://localhost:8080/",
          "height": 476
        },
        "id": "bbcc189d",
        "outputId": "3d07201b-c2e0-40ea-947a-ebe7c769dfbe"
      },
      "outputs": [
        {
          "data": {
            "text/html": [
              "<div>\n",
              "<style scoped>\n",
              "    .dataframe tbody tr th:only-of-type {\n",
              "        vertical-align: middle;\n",
              "    }\n",
              "\n",
              "    .dataframe tbody tr th {\n",
              "        vertical-align: top;\n",
              "    }\n",
              "\n",
              "    .dataframe thead th {\n",
              "        text-align: right;\n",
              "    }\n",
              "</style>\n",
              "<table border=\"1\" class=\"dataframe\">\n",
              "  <thead>\n",
              "    <tr style=\"text-align: right;\">\n",
              "      <th></th>\n",
              "      <th>Destination Port</th>\n",
              "      <th>Flow Duration</th>\n",
              "      <th>Total Fwd Packets</th>\n",
              "      <th>Total Backward Packets</th>\n",
              "      <th>Total Length of Fwd Packets</th>\n",
              "      <th>Total Length of Bwd Packets</th>\n",
              "      <th>Fwd Packet Length Max</th>\n",
              "      <th>Fwd Packet Length Min</th>\n",
              "      <th>Fwd Packet Length Mean</th>\n",
              "      <th>Fwd Packet Length Std</th>\n",
              "      <th>...</th>\n",
              "      <th>act_data_pkt_fwd</th>\n",
              "      <th>min_seg_size_forward</th>\n",
              "      <th>Active Mean</th>\n",
              "      <th>Active Std</th>\n",
              "      <th>Active Max</th>\n",
              "      <th>Active Min</th>\n",
              "      <th>Idle Mean</th>\n",
              "      <th>Idle Std</th>\n",
              "      <th>Idle Max</th>\n",
              "      <th>Idle Min</th>\n",
              "    </tr>\n",
              "  </thead>\n",
              "  <tbody>\n",
              "    <tr>\n",
              "      <th>0</th>\n",
              "      <td>54865</td>\n",
              "      <td>3</td>\n",
              "      <td>2</td>\n",
              "      <td>0</td>\n",
              "      <td>12</td>\n",
              "      <td>0</td>\n",
              "      <td>6</td>\n",
              "      <td>6</td>\n",
              "      <td>6.0</td>\n",
              "      <td>0.0</td>\n",
              "      <td>...</td>\n",
              "      <td>1</td>\n",
              "      <td>20</td>\n",
              "      <td>0.0</td>\n",
              "      <td>0.0</td>\n",
              "      <td>0</td>\n",
              "      <td>0</td>\n",
              "      <td>0.0</td>\n",
              "      <td>0.0</td>\n",
              "      <td>0</td>\n",
              "      <td>0</td>\n",
              "    </tr>\n",
              "    <tr>\n",
              "      <th>1</th>\n",
              "      <td>55054</td>\n",
              "      <td>109</td>\n",
              "      <td>1</td>\n",
              "      <td>1</td>\n",
              "      <td>6</td>\n",
              "      <td>6</td>\n",
              "      <td>6</td>\n",
              "      <td>6</td>\n",
              "      <td>6.0</td>\n",
              "      <td>0.0</td>\n",
              "      <td>...</td>\n",
              "      <td>0</td>\n",
              "      <td>20</td>\n",
              "      <td>0.0</td>\n",
              "      <td>0.0</td>\n",
              "      <td>0</td>\n",
              "      <td>0</td>\n",
              "      <td>0.0</td>\n",
              "      <td>0.0</td>\n",
              "      <td>0</td>\n",
              "      <td>0</td>\n",
              "    </tr>\n",
              "    <tr>\n",
              "      <th>2</th>\n",
              "      <td>55055</td>\n",
              "      <td>52</td>\n",
              "      <td>1</td>\n",
              "      <td>1</td>\n",
              "      <td>6</td>\n",
              "      <td>6</td>\n",
              "      <td>6</td>\n",
              "      <td>6</td>\n",
              "      <td>6.0</td>\n",
              "      <td>0.0</td>\n",
              "      <td>...</td>\n",
              "      <td>0</td>\n",
              "      <td>20</td>\n",
              "      <td>0.0</td>\n",
              "      <td>0.0</td>\n",
              "      <td>0</td>\n",
              "      <td>0</td>\n",
              "      <td>0.0</td>\n",
              "      <td>0.0</td>\n",
              "      <td>0</td>\n",
              "      <td>0</td>\n",
              "    </tr>\n",
              "    <tr>\n",
              "      <th>3</th>\n",
              "      <td>46236</td>\n",
              "      <td>34</td>\n",
              "      <td>1</td>\n",
              "      <td>1</td>\n",
              "      <td>6</td>\n",
              "      <td>6</td>\n",
              "      <td>6</td>\n",
              "      <td>6</td>\n",
              "      <td>6.0</td>\n",
              "      <td>0.0</td>\n",
              "      <td>...</td>\n",
              "      <td>0</td>\n",
              "      <td>20</td>\n",
              "      <td>0.0</td>\n",
              "      <td>0.0</td>\n",
              "      <td>0</td>\n",
              "      <td>0</td>\n",
              "      <td>0.0</td>\n",
              "      <td>0.0</td>\n",
              "      <td>0</td>\n",
              "      <td>0</td>\n",
              "    </tr>\n",
              "    <tr>\n",
              "      <th>4</th>\n",
              "      <td>54863</td>\n",
              "      <td>3</td>\n",
              "      <td>2</td>\n",
              "      <td>0</td>\n",
              "      <td>12</td>\n",
              "      <td>0</td>\n",
              "      <td>6</td>\n",
              "      <td>6</td>\n",
              "      <td>6.0</td>\n",
              "      <td>0.0</td>\n",
              "      <td>...</td>\n",
              "      <td>1</td>\n",
              "      <td>20</td>\n",
              "      <td>0.0</td>\n",
              "      <td>0.0</td>\n",
              "      <td>0</td>\n",
              "      <td>0</td>\n",
              "      <td>0.0</td>\n",
              "      <td>0.0</td>\n",
              "      <td>0</td>\n",
              "      <td>0</td>\n",
              "    </tr>\n",
              "    <tr>\n",
              "      <th>...</th>\n",
              "      <td>...</td>\n",
              "      <td>...</td>\n",
              "      <td>...</td>\n",
              "      <td>...</td>\n",
              "      <td>...</td>\n",
              "      <td>...</td>\n",
              "      <td>...</td>\n",
              "      <td>...</td>\n",
              "      <td>...</td>\n",
              "      <td>...</td>\n",
              "      <td>...</td>\n",
              "      <td>...</td>\n",
              "      <td>...</td>\n",
              "      <td>...</td>\n",
              "      <td>...</td>\n",
              "      <td>...</td>\n",
              "      <td>...</td>\n",
              "      <td>...</td>\n",
              "      <td>...</td>\n",
              "      <td>...</td>\n",
              "      <td>...</td>\n",
              "    </tr>\n",
              "    <tr>\n",
              "      <th>225740</th>\n",
              "      <td>61374</td>\n",
              "      <td>61</td>\n",
              "      <td>1</td>\n",
              "      <td>1</td>\n",
              "      <td>6</td>\n",
              "      <td>6</td>\n",
              "      <td>6</td>\n",
              "      <td>6</td>\n",
              "      <td>6.0</td>\n",
              "      <td>0.0</td>\n",
              "      <td>...</td>\n",
              "      <td>0</td>\n",
              "      <td>20</td>\n",
              "      <td>0.0</td>\n",
              "      <td>0.0</td>\n",
              "      <td>0</td>\n",
              "      <td>0</td>\n",
              "      <td>0.0</td>\n",
              "      <td>0.0</td>\n",
              "      <td>0</td>\n",
              "      <td>0</td>\n",
              "    </tr>\n",
              "    <tr>\n",
              "      <th>225741</th>\n",
              "      <td>61378</td>\n",
              "      <td>72</td>\n",
              "      <td>1</td>\n",
              "      <td>1</td>\n",
              "      <td>6</td>\n",
              "      <td>6</td>\n",
              "      <td>6</td>\n",
              "      <td>6</td>\n",
              "      <td>6.0</td>\n",
              "      <td>0.0</td>\n",
              "      <td>...</td>\n",
              "      <td>0</td>\n",
              "      <td>20</td>\n",
              "      <td>0.0</td>\n",
              "      <td>0.0</td>\n",
              "      <td>0</td>\n",
              "      <td>0</td>\n",
              "      <td>0.0</td>\n",
              "      <td>0.0</td>\n",
              "      <td>0</td>\n",
              "      <td>0</td>\n",
              "    </tr>\n",
              "    <tr>\n",
              "      <th>225742</th>\n",
              "      <td>61375</td>\n",
              "      <td>75</td>\n",
              "      <td>1</td>\n",
              "      <td>1</td>\n",
              "      <td>6</td>\n",
              "      <td>6</td>\n",
              "      <td>6</td>\n",
              "      <td>6</td>\n",
              "      <td>6.0</td>\n",
              "      <td>0.0</td>\n",
              "      <td>...</td>\n",
              "      <td>0</td>\n",
              "      <td>20</td>\n",
              "      <td>0.0</td>\n",
              "      <td>0.0</td>\n",
              "      <td>0</td>\n",
              "      <td>0</td>\n",
              "      <td>0.0</td>\n",
              "      <td>0.0</td>\n",
              "      <td>0</td>\n",
              "      <td>0</td>\n",
              "    </tr>\n",
              "    <tr>\n",
              "      <th>225743</th>\n",
              "      <td>61323</td>\n",
              "      <td>48</td>\n",
              "      <td>2</td>\n",
              "      <td>0</td>\n",
              "      <td>12</td>\n",
              "      <td>0</td>\n",
              "      <td>6</td>\n",
              "      <td>6</td>\n",
              "      <td>6.0</td>\n",
              "      <td>0.0</td>\n",
              "      <td>...</td>\n",
              "      <td>1</td>\n",
              "      <td>20</td>\n",
              "      <td>0.0</td>\n",
              "      <td>0.0</td>\n",
              "      <td>0</td>\n",
              "      <td>0</td>\n",
              "      <td>0.0</td>\n",
              "      <td>0.0</td>\n",
              "      <td>0</td>\n",
              "      <td>0</td>\n",
              "    </tr>\n",
              "    <tr>\n",
              "      <th>225744</th>\n",
              "      <td>61326</td>\n",
              "      <td>68</td>\n",
              "      <td>1</td>\n",
              "      <td>1</td>\n",
              "      <td>6</td>\n",
              "      <td>6</td>\n",
              "      <td>6</td>\n",
              "      <td>6</td>\n",
              "      <td>6.0</td>\n",
              "      <td>0.0</td>\n",
              "      <td>...</td>\n",
              "      <td>0</td>\n",
              "      <td>20</td>\n",
              "      <td>0.0</td>\n",
              "      <td>0.0</td>\n",
              "      <td>0</td>\n",
              "      <td>0</td>\n",
              "      <td>0.0</td>\n",
              "      <td>0.0</td>\n",
              "      <td>0</td>\n",
              "      <td>0</td>\n",
              "    </tr>\n",
              "  </tbody>\n",
              "</table>\n",
              "<p>225711 rows × 78 columns</p>\n",
              "</div>"
            ],
            "text/plain": [
              "        Destination Port  Flow Duration  Total Fwd Packets  \\\n",
              "0                  54865              3                  2   \n",
              "1                  55054            109                  1   \n",
              "2                  55055             52                  1   \n",
              "3                  46236             34                  1   \n",
              "4                  54863              3                  2   \n",
              "...                  ...            ...                ...   \n",
              "225740             61374             61                  1   \n",
              "225741             61378             72                  1   \n",
              "225742             61375             75                  1   \n",
              "225743             61323             48                  2   \n",
              "225744             61326             68                  1   \n",
              "\n",
              "        Total Backward Packets  Total Length of Fwd Packets  \\\n",
              "0                            0                           12   \n",
              "1                            1                            6   \n",
              "2                            1                            6   \n",
              "3                            1                            6   \n",
              "4                            0                           12   \n",
              "...                        ...                          ...   \n",
              "225740                       1                            6   \n",
              "225741                       1                            6   \n",
              "225742                       1                            6   \n",
              "225743                       0                           12   \n",
              "225744                       1                            6   \n",
              "\n",
              "        Total Length of Bwd Packets  Fwd Packet Length Max  \\\n",
              "0                                 0                      6   \n",
              "1                                 6                      6   \n",
              "2                                 6                      6   \n",
              "3                                 6                      6   \n",
              "4                                 0                      6   \n",
              "...                             ...                    ...   \n",
              "225740                            6                      6   \n",
              "225741                            6                      6   \n",
              "225742                            6                      6   \n",
              "225743                            0                      6   \n",
              "225744                            6                      6   \n",
              "\n",
              "        Fwd Packet Length Min  Fwd Packet Length Mean  Fwd Packet Length Std  \\\n",
              "0                           6                     6.0                    0.0   \n",
              "1                           6                     6.0                    0.0   \n",
              "2                           6                     6.0                    0.0   \n",
              "3                           6                     6.0                    0.0   \n",
              "4                           6                     6.0                    0.0   \n",
              "...                       ...                     ...                    ...   \n",
              "225740                      6                     6.0                    0.0   \n",
              "225741                      6                     6.0                    0.0   \n",
              "225742                      6                     6.0                    0.0   \n",
              "225743                      6                     6.0                    0.0   \n",
              "225744                      6                     6.0                    0.0   \n",
              "\n",
              "        ...  act_data_pkt_fwd  min_seg_size_forward  Active Mean  Active Std  \\\n",
              "0       ...                 1                    20          0.0         0.0   \n",
              "1       ...                 0                    20          0.0         0.0   \n",
              "2       ...                 0                    20          0.0         0.0   \n",
              "3       ...                 0                    20          0.0         0.0   \n",
              "4       ...                 1                    20          0.0         0.0   \n",
              "...     ...               ...                   ...          ...         ...   \n",
              "225740  ...                 0                    20          0.0         0.0   \n",
              "225741  ...                 0                    20          0.0         0.0   \n",
              "225742  ...                 0                    20          0.0         0.0   \n",
              "225743  ...                 1                    20          0.0         0.0   \n",
              "225744  ...                 0                    20          0.0         0.0   \n",
              "\n",
              "       Active Max Active Min  Idle Mean  Idle Std  Idle Max  Idle Min  \n",
              "0               0          0        0.0       0.0         0         0  \n",
              "1               0          0        0.0       0.0         0         0  \n",
              "2               0          0        0.0       0.0         0         0  \n",
              "3               0          0        0.0       0.0         0         0  \n",
              "4               0          0        0.0       0.0         0         0  \n",
              "...           ...        ...        ...       ...       ...       ...  \n",
              "225740          0          0        0.0       0.0         0         0  \n",
              "225741          0          0        0.0       0.0         0         0  \n",
              "225742          0          0        0.0       0.0         0         0  \n",
              "225743          0          0        0.0       0.0         0         0  \n",
              "225744          0          0        0.0       0.0         0         0  \n",
              "\n",
              "[225711 rows x 78 columns]"
            ]
          },
          "execution_count": 20,
          "metadata": {},
          "output_type": "execute_result"
        }
      ],
      "source": [
        "X"
      ]
    },
    {
      "cell_type": "code",
      "execution_count": 21,
      "id": "daef6435",
      "metadata": {
        "colab": {
          "base_uri": "https://localhost:8080/",
          "height": 458
        },
        "id": "daef6435",
        "outputId": "189f5b11-0007-481a-c6a6-1b721b11f3c9"
      },
      "outputs": [
        {
          "data": {
            "text/plain": [
              "0         0\n",
              "1         0\n",
              "2         0\n",
              "3         0\n",
              "4         0\n",
              "         ..\n",
              "225740    0\n",
              "225741    0\n",
              "225742    0\n",
              "225743    0\n",
              "225744    0\n",
              "Name: Label, Length: 225711, dtype: int64"
            ]
          },
          "execution_count": 21,
          "metadata": {},
          "output_type": "execute_result"
        }
      ],
      "source": [
        "y"
      ]
    },
    {
      "cell_type": "code",
      "execution_count": 22,
      "id": "5ff7fb51",
      "metadata": {
        "id": "5ff7fb51"
      },
      "outputs": [],
      "source": [
        "scaler = StandardScaler()\n",
        "X_scaled = scaler.fit_transform(X) # standardize features"
      ]
    },
    {
      "cell_type": "code",
      "execution_count": 23,
      "id": "fc3cf09e",
      "metadata": {
        "id": "fc3cf09e"
      },
      "outputs": [],
      "source": [
        "X_train, X_test, y_train, y_test = train_test_split(\n",
        "    X_scaled, y, test_size=0.2, random_state=42, stratify=y)"
      ]
    },
    {
      "cell_type": "code",
      "execution_count": 24,
      "id": "cc6ba430",
      "metadata": {
        "colab": {
          "base_uri": "https://localhost:8080/",
          "height": 178
        },
        "id": "cc6ba430",
        "outputId": "f086456b-c73a-4087-8c83-18ad655e9dbc"
      },
      "outputs": [
        {
          "data": {
            "text/plain": [
              "Label\n",
              "1    128025\n",
              "0     97686\n",
              "Name: count, dtype: int64"
            ]
          },
          "execution_count": 24,
          "metadata": {},
          "output_type": "execute_result"
        }
      ],
      "source": [
        "df['Label'].value_counts() # 0 = Benign, 1 = DDoS"
      ]
    },
    {
      "cell_type": "markdown",
      "id": "b9c416a2",
      "metadata": {
        "id": "b9c416a2"
      },
      "source": [
        "### Creating dataset and loaders"
      ]
    },
    {
      "cell_type": "code",
      "execution_count": 25,
      "id": "bc5d3b78",
      "metadata": {
        "id": "bc5d3b78"
      },
      "outputs": [],
      "source": [
        "# convert to torch tensors\n",
        "X_train_tensor = torch.tensor(X_train, dtype=torch.float32)\n",
        "y_train_tensor = torch.tensor(y_train.values, dtype=torch.float32)\n",
        "\n",
        "X_test_tensor = torch.tensor(X_test, dtype=torch.float32)\n",
        "y_test_tensor = torch.tensor(y_test.values, dtype=torch.float32)"
      ]
    },
    {
      "cell_type": "code",
      "execution_count": 26,
      "id": "558dc242",
      "metadata": {
        "id": "558dc242"
      },
      "outputs": [],
      "source": [
        "# create datasets\n",
        "train_dataset = TensorDataset(X_train_tensor, y_train_tensor)\n",
        "test_dataset = TensorDataset(X_test_tensor, y_test_tensor)"
      ]
    },
    {
      "cell_type": "code",
      "execution_count": 27,
      "id": "681fc3cf",
      "metadata": {
        "id": "681fc3cf"
      },
      "outputs": [],
      "source": [
        "# create data loaders\n",
        "train_loader = DataLoader(train_dataset, batch_size=64, shuffle=True)\n",
        "test_loader = DataLoader(test_dataset, batch_size=64, shuffle=False)"
      ]
    },
    {
      "cell_type": "markdown",
      "id": "8d30725b",
      "metadata": {
        "id": "8d30725b"
      },
      "source": [
        "### Model (LSTM + Vanilla Autoencoder)"
      ]
    },
    {
      "cell_type": "code",
      "execution_count": 28,
      "id": "48086b6f",
      "metadata": {
        "id": "48086b6f"
      },
      "outputs": [],
      "source": [
        "class VAE(nn.Module):\n",
        "    def __init__(self, input_dim, latent_dim=64):\n",
        "        super().__init__()\n",
        "\n",
        "        # More powerful encoder\n",
        "        self.encoder = nn.Sequential(\n",
        "            nn.Linear(input_dim, 512),\n",
        "            nn.SiLU(),\n",
        "            nn.Dropout(0.2),\n",
        "            nn.Linear(512, 256),\n",
        "            nn.SiLU(),\n",
        "            nn.Dropout(0.2),\n",
        "            nn.Linear(256, 128),\n",
        "            nn.SiLU()\n",
        "        )\n",
        "\n",
        "        self.fc_mu = nn.Linear(128, latent_dim)\n",
        "        self.fc_logvar = nn.Linear(128, latent_dim)\n",
        "\n",
        "        # More powerful decoder\n",
        "        self.decoder = nn.Sequential(\n",
        "            nn.Linear(latent_dim, 128),\n",
        "            nn.SiLU(),\n",
        "            nn.Dropout(0.2),\n",
        "            nn.Linear(128, 256),\n",
        "            nn.SiLU(),\n",
        "            nn.Dropout(0.2),\n",
        "            nn.Linear(256, 512),\n",
        "            nn.SiLU(),\n",
        "            nn.Linear(512, input_dim)\n",
        "        )\n",
        "\n",
        "    def encode(self, x):\n",
        "        h = self.encoder(x)\n",
        "        mu = self.fc_mu(h)\n",
        "        logvar = self.fc_logvar(h)\n",
        "\n",
        "        # Clamp mu and logvar to avoid extreme values\n",
        "        mu = torch.clamp(mu, min=-10, max=10)\n",
        "        logvar = torch.clamp(logvar, min=-10, max=10)\n",
        "\n",
        "        return mu, logvar\n",
        "\n",
        "    def reparameterize(self, mu, logvar):\n",
        "        std = torch.exp(0.5 * logvar)\n",
        "        eps = torch.randn_like(std)\n",
        "        return mu + eps * std\n",
        "\n",
        "    def forward(self, x):\n",
        "        mu, logvar = self.encode(x)\n",
        "        z = self.reparameterize(mu, logvar)\n",
        "        return self.decoder(z), mu, logvar, z"
      ]
    },
    {
      "cell_type": "code",
      "execution_count": 29,
      "id": "LNOMqXxccRYx",
      "metadata": {
        "id": "LNOMqXxccRYx"
      },
      "outputs": [],
      "source": [
        "def vae_loss(x, x_reconstructed, mu, logvar):\n",
        "    # Reconstruction loss (MSE)\n",
        "    reconstruction_loss = F.mse_loss(x_reconstructed, x, reduction='mean')\n",
        "\n",
        "    # KL divergence between the learned latent distribution and a unit Gaussian\n",
        "    kl_divergence = -0.5 * torch.mean(1 + logvar - mu.pow(2) - logvar.exp())\n",
        "\n",
        "    return reconstruction_loss + kl_divergence"
      ]
    },
    {
      "cell_type": "code",
      "execution_count": 30,
      "id": "7jQX9XJsSsu2",
      "metadata": {
        "id": "7jQX9XJsSsu2"
      },
      "outputs": [],
      "source": [
        "class LSTMClassifier(nn.Module):\n",
        "    def __init__(self, input_size, hidden_dim=64):\n",
        "        super(LSTMClassifier, self).__init__()\n",
        "        self.lstm = nn.LSTM(input_size=input_size, hidden_size=hidden_dim, batch_first=True)\n",
        "        self.fc = nn.Linear(hidden_dim, 1)\n",
        "\n",
        "    def forward(self, x):\n",
        "        out, _ = self.lstm(x)\n",
        "        out = self.fc(out[:, -1, :])\n",
        "        return out"
      ]
    },
    {
      "cell_type": "code",
      "execution_count": 31,
      "id": "3c953131",
      "metadata": {
        "id": "3c953131"
      },
      "outputs": [],
      "source": [
        "# model initialization\n",
        "input_dim = X_train.shape[1]\n",
        "latent_dim = 32\n",
        "\n",
        "autoencoder = VAE(input_dim, latent_dim).to(device)\n",
        "lstm = LSTMClassifier(input_size=latent_dim).to(device)\n",
        "\n",
        "ae_optimizer = torch.optim.Adam(autoencoder.parameters(), lr=1e-4)\n",
        "lstm_optimizer = torch.optim.Adam(lstm.parameters(), lr=1e-4)\n",
        "criterion = nn.BCEWithLogitsLoss()  # Use BCEWithLogitsLoss instead of BCE with manual sigmoid"
      ]
    },
    {
      "cell_type": "code",
      "execution_count": 32,
      "id": "62e929e3",
      "metadata": {
        "colab": {
          "base_uri": "https://localhost:8080/"
        },
        "id": "62e929e3",
        "outputId": "d2dbe3b5-984b-44fa-d820-dee2cb66dc7d"
      },
      "outputs": [
        {
          "name": "stdout",
          "output_type": "stream",
          "text": [
            "Epoch [1/50]\n",
            "  Train -> Loss: 0.8693, Accuracy: 92.51%, F1: 0.9302\n",
            "  Test  -> Loss: 0.5349, Accuracy: 98.70%, F1: 0.9885\n",
            "Model saved at epoch 1 with accuracy: 98.70%\n",
            "Epoch [2/50]\n",
            "  Train -> Loss: 0.5306, Accuracy: 98.63%, F1: 0.9879\n",
            "  Test  -> Loss: 0.4351, Accuracy: 98.67%, F1: 0.9882\n",
            "No improvement for 1 epoch(s).\n",
            "Epoch [3/50]\n",
            "  Train -> Loss: 0.4685, Accuracy: 98.89%, F1: 0.9902\n",
            "  Test  -> Loss: 0.4084, Accuracy: 99.05%, F1: 0.9916\n",
            "Model saved at epoch 3 with accuracy: 99.05%\n",
            "Epoch [4/50]\n",
            "  Train -> Loss: 0.4073, Accuracy: 99.20%, F1: 0.9929\n",
            "  Test  -> Loss: 0.3239, Accuracy: 99.49%, F1: 0.9955\n",
            "Model saved at epoch 4 with accuracy: 99.49%\n",
            "Epoch [5/50]\n",
            "  Train -> Loss: 0.3435, Accuracy: 99.45%, F1: 0.9952\n",
            "  Test  -> Loss: 0.2860, Accuracy: 99.64%, F1: 0.9968\n",
            "Model saved at epoch 5 with accuracy: 99.64%\n",
            "Epoch [6/50]\n",
            "  Train -> Loss: 0.3072, Accuracy: 99.64%, F1: 0.9969\n",
            "  Test  -> Loss: 0.2557, Accuracy: 99.62%, F1: 0.9967\n",
            "No improvement for 1 epoch(s).\n",
            "Epoch [7/50]\n",
            "  Train -> Loss: 0.2874, Accuracy: 99.72%, F1: 0.9975\n",
            "  Test  -> Loss: 0.2560, Accuracy: 99.79%, F1: 0.9981\n",
            "Model saved at epoch 7 with accuracy: 99.79%\n",
            "Epoch [8/50]\n",
            "  Train -> Loss: 0.2706, Accuracy: 99.76%, F1: 0.9979\n",
            "  Test  -> Loss: 0.2284, Accuracy: 99.84%, F1: 0.9986\n",
            "Model saved at epoch 8 with accuracy: 99.84%\n",
            "Epoch [9/50]\n",
            "  Train -> Loss: 0.2586, Accuracy: 99.78%, F1: 0.9981\n",
            "  Test  -> Loss: 0.2210, Accuracy: 99.82%, F1: 0.9984\n",
            "No improvement for 1 epoch(s).\n",
            "Epoch [10/50]\n",
            "  Train -> Loss: 0.2538, Accuracy: 99.78%, F1: 0.9980\n",
            "  Test  -> Loss: 0.2168, Accuracy: 99.86%, F1: 0.9988\n",
            "Model saved at epoch 10 with accuracy: 99.86%\n",
            "Epoch [11/50]\n",
            "  Train -> Loss: 0.2531, Accuracy: 99.79%, F1: 0.9981\n",
            "  Test  -> Loss: 0.2135, Accuracy: 99.82%, F1: 0.9984\n",
            "No improvement for 1 epoch(s).\n",
            "Epoch [12/50]\n",
            "  Train -> Loss: 0.2414, Accuracy: 99.80%, F1: 0.9983\n",
            "  Test  -> Loss: 0.2104, Accuracy: 99.79%, F1: 0.9981\n",
            "No improvement for 2 epoch(s).\n",
            "Epoch [13/50]\n",
            "  Train -> Loss: 0.2439, Accuracy: 99.80%, F1: 0.9982\n",
            "  Test  -> Loss: 0.2116, Accuracy: 99.79%, F1: 0.9981\n",
            "No improvement for 3 epoch(s).\n",
            "Epoch [14/50]\n",
            "  Train -> Loss: 0.2368, Accuracy: 99.80%, F1: 0.9983\n",
            "  Test  -> Loss: 0.2315, Accuracy: 99.84%, F1: 0.9986\n",
            "No improvement for 4 epoch(s).\n",
            "Epoch [15/50]\n",
            "  Train -> Loss: 0.2346, Accuracy: 99.81%, F1: 0.9983\n",
            "  Test  -> Loss: 0.2053, Accuracy: 99.84%, F1: 0.9986\n",
            "No improvement for 5 epoch(s).\n",
            "Early stopping triggered.\n"
          ]
        }
      ],
      "source": [
        "# start training time\n",
        "train_start = time.time()\n",
        "\n",
        "# hyperparameters\n",
        "num_epochs = 50\n",
        "patience = 5\n",
        "save_path = 'BEST_LSTM_VariationalAE_MODEL.pth'\n",
        "\n",
        "# early stopping variables\n",
        "best_acc = 0\n",
        "epochs_no_improve = 0\n",
        "\n",
        "# metric storage\n",
        "train_losses, test_losses = [], []\n",
        "train_accuracies, test_accuracies = [], []\n",
        "train_f1s, test_f1s = [], []\n",
        "\n",
        "for epoch in range(num_epochs):\n",
        "    autoencoder.train()\n",
        "    lstm.train()\n",
        "    total_loss = 0\n",
        "    correct = 0\n",
        "    total = 0\n",
        "    all_preds = []\n",
        "    all_labels = []\n",
        "\n",
        "    for X_batch, y_batch in train_loader:\n",
        "        X_batch = X_batch.to(device)\n",
        "        y_batch = y_batch.to(device).unsqueeze(1).float()\n",
        "\n",
        "        ae_optimizer.zero_grad()\n",
        "        lstm_optimizer.zero_grad()\n",
        "\n",
        "        # Forward pass through autoencoder\n",
        "        x_reconstructed, mu, logvar, z = autoencoder(X_batch)\n",
        "        z_seq = z.unsqueeze(1)\n",
        "\n",
        "        # Forward pass through LSTM\n",
        "        y_pred = lstm(z_seq)\n",
        "\n",
        "        # VAE loss\n",
        "        reconstruction_kl_loss = vae_loss(X_batch, x_reconstructed, mu, logvar)\n",
        "\n",
        "        # Apply BCE loss with logits (no need to apply sigmoid manually)\n",
        "        loss = reconstruction_kl_loss + criterion(y_pred, y_batch)\n",
        "        loss.backward()\n",
        "\n",
        "        # Step for both optimizers\n",
        "        ae_optimizer.step()\n",
        "        lstm_optimizer.step()\n",
        "\n",
        "        total_loss += loss.item()\n",
        "        predicted = (y_pred > 0.5).float()\n",
        "        correct += (predicted == y_batch).sum().item()\n",
        "        total += y_batch.size(0)\n",
        "        all_preds.extend(predicted.cpu().numpy())\n",
        "        all_labels.extend(y_batch.cpu().numpy())\n",
        "\n",
        "    avg_train_loss = total_loss / len(train_loader)\n",
        "    train_acc = correct / total * 100\n",
        "    train_f1 = f1_score(all_labels, all_preds)\n",
        "    train_losses.append(avg_train_loss)\n",
        "    train_accuracies.append(train_acc)\n",
        "    train_f1s.append(train_f1)\n",
        "\n",
        "    # eval on test set\n",
        "    autoencoder.eval()\n",
        "    lstm.eval()\n",
        "    test_loss = 0\n",
        "    correct = 0\n",
        "    total = 0\n",
        "    all_preds = []\n",
        "    all_labels = []\n",
        "\n",
        "    with torch.no_grad():\n",
        "        for X_batch, y_batch in test_loader:\n",
        "            X_batch = X_batch.to(device)\n",
        "            y_batch = y_batch.to(device).unsqueeze(1).float()\n",
        "\n",
        "            # Forward pass through autoencoder\n",
        "            x_reconstructed, mu, logvar, z = autoencoder(X_batch)\n",
        "            z_seq = z.unsqueeze(1)\n",
        "\n",
        "            # Forward pass through LSTM\n",
        "            y_pred = lstm(z_seq)\n",
        "\n",
        "            # VAE loss\n",
        "            reconstruction_kl_loss = vae_loss(X_batch, x_reconstructed, mu, logvar)\n",
        "\n",
        "            # Apply BCE loss with logits (no need to apply sigmoid manually)\n",
        "            test_loss += reconstruction_kl_loss + criterion(y_pred, y_batch)\n",
        "\n",
        "            predicted = (y_pred > 0.5).float()\n",
        "            correct += (predicted == y_batch).sum().item()\n",
        "            total += y_batch.size(0)\n",
        "            all_preds.extend(predicted.cpu().numpy())\n",
        "            all_labels.extend(y_batch.cpu().numpy())\n",
        "\n",
        "    avg_test_loss = test_loss / len(test_loader)\n",
        "    test_acc = correct / total * 100\n",
        "    test_f1 = f1_score(all_labels, all_preds)\n",
        "    test_losses.append(avg_test_loss)\n",
        "    test_accuracies.append(test_acc)\n",
        "    test_f1s.append(test_f1)\n",
        "\n",
        "    print(f\"Epoch [{epoch+1}/{num_epochs}]\")\n",
        "    print(f\"  Train -> Loss: {avg_train_loss:.4f}, Accuracy: {train_acc:.2f}%, F1: {train_f1:.4f}\")\n",
        "    print(f\"  Test  -> Loss: {avg_test_loss:.4f}, Accuracy: {test_acc:.2f}%, F1: {test_f1:.4f}\")\n",
        "\n",
        "    # Early stopping and model checkpoint\n",
        "    if test_acc > best_acc:\n",
        "        best_acc = test_acc\n",
        "        epochs_no_improve = 0\n",
        "        torch.save({\n",
        "            'autoencoder_state_dict': autoencoder.state_dict(),\n",
        "            'lstm_state_dict': lstm.state_dict(),\n",
        "            'ae_optimizer_state_dict': ae_optimizer.state_dict(),\n",
        "            'lstm_optimizer_state_dict': lstm_optimizer.state_dict(),\n",
        "            'epoch': epoch,\n",
        "            'best_acc': best_acc\n",
        "        }, save_path)\n",
        "        print(f\"Model saved at epoch {epoch+1} with accuracy: {best_acc:.2f}%\")\n",
        "    else:\n",
        "        epochs_no_improve += 1\n",
        "        print(f\"No improvement for {epochs_no_improve} epoch(s).\")\n",
        "\n",
        "    if epochs_no_improve >= patience:\n",
        "        print(\"Early stopping triggered.\")\n",
        "        break\n",
        "\n",
        "    # Gradient clipping to prevent exploding gradients\n",
        "    torch.nn.utils.clip_grad_norm_(autoencoder.parameters(), max_norm=1.0)\n",
        "    torch.nn.utils.clip_grad_norm_(lstm.parameters(), max_norm=1.0)\n",
        "\n",
        "# end training time\n",
        "train_end = time.time()\n",
        "training_time = train_end - train_start\n",
        "\n",
        "# estimate inference time\n",
        "inference_start = time.time()\n",
        "with torch.no_grad():\n",
        "    for X_batch, _ in test_loader:\n",
        "        X_batch = X_batch.to(device)\n",
        "        _, _, _, z = autoencoder(X_batch)  # FIXED\n",
        "        z_seq = z.unsqueeze(1)\n",
        "        _ = lstm(z_seq)\n",
        "inference_end = time.time()\n",
        "inference_time = inference_end - inference_start"
      ]
    },
    {
      "cell_type": "code",
      "execution_count": 37,
      "id": "SukbqYNk5YGC",
      "metadata": {
        "colab": {
          "base_uri": "https://localhost:8080/"
        },
        "id": "SukbqYNk5YGC",
        "outputId": "71dbdc1b-2a9a-45c8-e70e-c4d3ae114060"
      },
      "outputs": [
        {
          "name": "stdout",
          "output_type": "stream",
          "text": [
            "\n",
            "=== Summary ===\n",
            "Training Time: 565.78 seconds\n",
            "Storage Consumption: 5267.64 KB\n",
            "Misclassification Rate: 0.14\n",
            "Inference Time: 1.7861 seconds\n",
            "Maintainability Index: 53.10\n"
          ]
        }
      ],
      "source": [
        "# model file size\n",
        "model_size_kb = os.path.getsize(save_path) / 1024 if os.path.exists(save_path) else 0.0\n",
        "misclassification_rate = 100 - best_acc\n",
        "\n",
        "# maintainability index\n",
        "with open('LSTM_VariationalAE_Model.py', 'r') as f:\n",
        "    code = f.read()\n",
        "blocks = cc_visit(code)\n",
        "mi_score = mi_visit(code, blocks)\n",
        "\n",
        "print(\"\\n=== Summary ===\")\n",
        "print(f\"Training Time: {training_time:.2f} seconds\")\n",
        "print(f\"Storage Consumption: {model_size_kb:.2f} KB\")\n",
        "print(f\"Misclassification Rate: {misclassification_rate:.2f}\")\n",
        "print(f\"Inference Time: {inference_time:.4f} seconds\")\n",
        "print(f\"Maintainability Index: {mi_score:.2f}\")"
      ]
    },
    {
      "cell_type": "markdown",
      "id": "5b357e2c",
      "metadata": {
        "id": "5b357e2c"
      },
      "source": [
        "### Plots and Results"
      ]
    },
    {
      "cell_type": "code",
      "execution_count": 34,
      "id": "8bfa81e2",
      "metadata": {
        "colab": {
          "base_uri": "https://localhost:8080/",
          "height": 472
        },
        "id": "8bfa81e2",
        "outputId": "4ac0d9db-b526-48fb-876a-30a0f20a78f4"
      },
      "outputs": [
        {
          "data": {
            "image/png": "[encoded data removed]",
            "text/plain": [
              "<Figure size 640x480 with 2 Axes>"
            ]
          },
          "metadata": {},
          "output_type": "display_data"
        }
      ],
      "source": [
        "# confusion matrix and roc curve\n",
        "autoencoder.eval()\n",
        "lstm.eval()\n",
        "all_preds = []\n",
        "all_probs = []\n",
        "all_labels = []\n",
        "\n",
        "with torch.no_grad():\n",
        "    for X_batch, y_batch in test_loader:\n",
        "        X_batch = X_batch.to(device)\n",
        "        y_batch = y_batch.to(device).unsqueeze(1)\n",
        "\n",
        "        x_reconstructed, mu, logvar, z = autoencoder(X_batch)\n",
        "        z_seq = z.unsqueeze(1)\n",
        "        y_pred = lstm(z_seq)\n",
        "\n",
        "        probs = y_pred.cpu().numpy()\n",
        "        preds = (y_pred > 0.5).float().cpu().numpy()\n",
        "        labels = y_batch.cpu().numpy()\n",
        "\n",
        "        all_probs.extend(probs)\n",
        "        all_preds.extend(preds)\n",
        "        all_labels.extend(labels)\n",
        "\n",
        "# confusion matrix\n",
        "cm = confusion_matrix(all_labels, all_preds)\n",
        "sns.heatmap(cm, annot=True, fmt='d', cmap='Blues')\n",
        "plt.title(\"Confusion Matrix\")\n",
        "plt.xlabel(\"Predicted\")\n",
        "plt.ylabel(\"Actual\")\n",
        "plt.show()"
      ]
    },
    {
      "cell_type": "code",
      "execution_count": 35,
      "id": "26059810",
      "metadata": {
        "colab": {
          "base_uri": "https://localhost:8080/",
          "height": 472
        },
        "id": "26059810",
        "outputId": "0846a323-c792-4279-97f7-05ed3493d511"
      },
      "outputs": [
        {
          "data": {
            "image/png": "[encoded data removed]",
            "text/plain": [
              "<Figure size 640x480 with 1 Axes>"
            ]
          },
          "metadata": {},
          "output_type": "display_data"
        }
      ],
      "source": [
        "# ROC Curve\n",
        "fpr, tpr, _ = roc_curve(all_labels, all_probs)\n",
        "roc_auc = auc(fpr, tpr)\n",
        "\n",
        "plt.figure()\n",
        "plt.plot(fpr, tpr, label=f'ROC Curve (AUC = {roc_auc:.2f})')\n",
        "plt.plot([0, 1], [0, 1], linestyle='--')\n",
        "plt.xlabel(\"False Positive Rate\")\n",
        "plt.ylabel(\"True Positive Rate\")\n",
        "plt.title(\"ROC Curve\")\n",
        "plt.legend()\n",
        "plt.grid()\n",
        "plt.show()"
      ]
    },
    {
      "cell_type": "code",
      "execution_count": null,
      "id": "c2381bda",
      "metadata": {
        "colab": {
          "base_uri": "https://localhost:8080/"
        },
        "id": "c2381bda",
        "outputId": "6dde715e-2e32-4ca8-a2af-f755d4d06467"
      },
      "outputs": [
        {
          "name": "stdout",
          "output_type": "stream",
          "text": [
            "\n",
            " Classification Report\n",
            "              precision    recall  f1-score   support\n",
            "\n",
            "      Benign       1.00      1.00      1.00     19538\n",
            "        DdoS       1.00      1.00      1.00     25605\n",
            "\n",
            "    accuracy                           1.00     45143\n",
            "   macro avg       1.00      1.00      1.00     45143\n",
            "weighted avg       1.00      1.00      1.00     45143\n",
            "\n"
          ]
        }
      ],
      "source": [
        "autoencoder.eval()\n",
        "lstm.eval()\n",
        "\n",
        "all_preds = []\n",
        "all_labels = []\n",
        "\n",
        "with torch.no_grad():\n",
        "    for X_batch, y_batch in test_loader:\n",
        "        X_batch = X_batch.to(device)\n",
        "        y_batch = y_batch.to(device).unsqueeze(1)\n",
        "\n",
        "        x_reconstructed, mu, logvar, z = autoencoder(X_batch)\n",
        "        z_seq = z.unsqueeze(1)\n",
        "        y_pred = lstm(z_seq)\n",
        "\n",
        "        predicted = (y_pred > 0.5).float()\n",
        "        all_preds.extend(predicted.cpu().numpy())\n",
        "        all_labels.extend(y_batch.cpu().numpy())\n",
        "\n",
        "# Generate classification report\n",
        "print(\"\\n Classification Report\")\n",
        "print(classification_report(all_labels, all_preds, target_names=['Benign', 'DdoS']))"
      ]
    },
    {
      "cell_type": "code",
      "execution_count": null,
      "id": "f0199149",
      "metadata": {},
      "outputs": [],
      "source": []
    }
  ],
  "metadata": {
    "colab": {
      "provenance": []
    },
    "kernelspec": {
      "display_name": "torch",
      "language": "python",
      "name": "python3"
    },
    "language_info": {
      "codemirror_mode": {
        "name": "ipython",
        "version": 3
      },
      "file_extension": ".py",
      "mimetype": "text/x-python",
      "name": "python",
      "nbconvert_exporter": "python",
      "pygments_lexer": "ipython3",
      "version": "3.9.21"
    }
  },
  "nbformat": 4,
  "nbformat_minor": 5
}
